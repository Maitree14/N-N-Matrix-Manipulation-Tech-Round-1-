{
 "cells": [
  {
   "cell_type": "code",
   "execution_count": null,
   "metadata": {},
   "outputs": [],
   "source": [
    "def spiral(m,n):\n",
    "    matrix=[[0]*n for _ in range(m)]\n",
    "    srow,scol=0,0\n",
    "    erow, ecol=m-1, n-1\n",
    "    num=1\n",
    "\n",
    "    while srow<=erow and scol<=ecol:\n",
    "        # from top left to top right\n",
    "        for i in range(scol,ecol+1):\n",
    "            matrix[srow][i]=num\n",
    "            num=num+1\n",
    "        srow=srow+1\n",
    "\n",
    "        #from top right to bottom right\n",
    "\n",
    "        for i in range(srow,ecol+1):\n",
    "            matrix[i][ecol]=num\n",
    "            num=num+1\n",
    "        ecol=ecol-1\n",
    "\n",
    "        #from bottom right to bottom left\n",
    "        if srow<=erow:\n",
    "            for i in range(ecol,scol-1,-1):\n",
    "                matrix[erow][i]=num\n",
    "                num=num+1\n",
    "            erow=erow-1\n",
    "        #from bottom left to top left\n",
    "        if scol<=ecol:\n",
    "            for i in range(erow,srow-1,-1):\n",
    "                matrix[i][scol]=num\n",
    "                num=num+1\n",
    "            scol=scol+1\n",
    "    return matrix\n",
    "        "
   ]
  },
  {
   "cell_type": "code",
   "execution_count": 11,
   "metadata": {},
   "outputs": [
    {
     "name": "stdout",
     "output_type": "stream",
     "text": [
      "[1, 2, 3, 4]\n",
      "[12, 13, 14, 5]\n",
      "[11, 16, 15, 6]\n",
      "[10, 9, 8, 7]\n"
     ]
    }
   ],
   "source": [
    "m,n=4,4\n",
    "spiral_matrix=spiral(m,n)\n",
    "for i in spiral_matrix:\n",
    "    print(i)"
   ]
  },
  {
   "cell_type": "code",
   "execution_count": null,
   "metadata": {},
   "outputs": [],
   "source": []
  }
 ],
 "metadata": {
  "kernelspec": {
   "display_name": "vnvv",
   "language": "python",
   "name": "python3"
  },
  "language_info": {
   "codemirror_mode": {
    "name": "ipython",
    "version": 3
   },
   "file_extension": ".py",
   "mimetype": "text/x-python",
   "name": "python",
   "nbconvert_exporter": "python",
   "pygments_lexer": "ipython3",
   "version": "3.11.9"
  }
 },
 "nbformat": 4,
 "nbformat_minor": 2
}
